{
  "nbformat": 4,
  "nbformat_minor": 0,
  "metadata": {
    "colab": {
      "name": "latihan2.ipynb",
      "provenance": [],
      "authorship_tag": "ABX9TyPwThau7Vbbgtp/DMGymRSG",
      "include_colab_link": true
    },
    "kernelspec": {
      "name": "python3",
      "display_name": "Python 3"
    },
    "language_info": {
      "name": "python"
    }
  },
  "cells": [
    {
      "cell_type": "markdown",
      "metadata": {
        "id": "view-in-github",
        "colab_type": "text"
      },
      "source": [
        "<a href=\"https://colab.research.google.com/github/bigdata-unand/Latihan-python/blob/main/latihan2.ipynb\" target=\"_parent\"><img src=\"https://colab.research.google.com/assets/colab-badge.svg\" alt=\"Open In Colab\"/></a>"
      ]
    },
    {
      "cell_type": "markdown",
      "metadata": {
        "id": "Q2Hh-dfNW2cf"
      },
      "source": [
        "Program menampilkan nama dan alamat dan memilih status dosen atau mahasiswa"
      ]
    },
    {
      "cell_type": "code",
      "metadata": {
        "id": "DtHLgpKeJOAX",
        "colab": {
          "base_uri": "https://localhost:8080/"
        },
        "outputId": "91837ab0-cf86-45c3-ebd8-cbedef99f7c1"
      },
      "source": [
        "nama=\"wahyu\"\n",
        "alamat=\"padang\"\n",
        "dosen=\"true\"\n",
        "print (\"nama =\", nama)\n",
        "print (\"alamat=\",alamat)\n",
        "if (dosen):\n",
        "  print (\"status= Dosen\")\n",
        "else:\n",
        "  print (\"status=mahasiswa\")\n"
      ],
      "execution_count": null,
      "outputs": [
        {
          "output_type": "stream",
          "text": [
            "nama = wahyu\n",
            "alamat= padang\n",
            "status= Dosen\n"
          ],
          "name": "stdout"
        }
      ]
    }
  ]
}