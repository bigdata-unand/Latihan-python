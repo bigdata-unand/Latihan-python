nama="wahyu"
alamat="padang"
dosen="true"
print("nama =", nama)
print("alamat=",alamat)
if (dosen):
print("status= Dosen")
else:
print("status=mahasiswa")
